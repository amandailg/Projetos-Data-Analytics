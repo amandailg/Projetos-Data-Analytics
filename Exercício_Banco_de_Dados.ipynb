{
  "nbformat": 4,
  "nbformat_minor": 0,
  "metadata": {
    "colab": {
      "provenance": []
    },
    "kernelspec": {
      "name": "python3",
      "display_name": "Python 3"
    },
    "language_info": {
      "name": "python"
    }
  },
  "cells": [
    {
      "cell_type": "markdown",
      "source": [
        "# Inicialiação do ambiente\n",
        "Aluna: Amanda Luiza Ilg"
      ],
      "metadata": {
        "id": "6JQ6iH7ngYdP"
      }
    },
    {
      "cell_type": "code",
      "execution_count": 2,
      "metadata": {
        "id": "3pIO1OrJDYKw"
      },
      "outputs": [],
      "source": [
        "import sqlite3"
      ]
    },
    {
      "cell_type": "code",
      "source": [
        "conexao = sqlite3.connect('banco')\n",
        "cursor = conexao.cursor()"
      ],
      "metadata": {
        "id": "9l2U0sQ4DxJB"
      },
      "execution_count": 3,
      "outputs": []
    },
    {
      "cell_type": "markdown",
      "source": [
        "# Exercicio 1\n",
        "Crie uma tabela chamada \"alunos\" com os seguintes campos: id\n",
        "(inteiro), nome (texto), idade (inteiro) e curso (texto)"
      ],
      "metadata": {
        "id": "lbjnYhDceFVB"
      }
    },
    {
      "cell_type": "code",
      "source": [
        "cursor.execute('CREATE TABLE alunos(id INT,nome VARCHAR(50),idade INT,curso VARCHAR(30))')"
      ],
      "metadata": {
        "colab": {
          "base_uri": "https://localhost:8080/"
        },
        "id": "sC12OcCOETYy",
        "outputId": "28b3bae0-ef4a-4408-f39c-757e917e3af9"
      },
      "execution_count": 4,
      "outputs": [
        {
          "output_type": "execute_result",
          "data": {
            "text/plain": [
              "<sqlite3.Cursor at 0x7ea27c136540>"
            ]
          },
          "metadata": {},
          "execution_count": 4
        }
      ]
    },
    {
      "cell_type": "markdown",
      "source": [
        "# Exercicio 2\n",
        "Insira pelo menos 5 registros de alunos na tabela que você criou no\n",
        "exercício anterior.\n"
      ],
      "metadata": {
        "id": "plR9kJVIefAz"
      }
    },
    {
      "cell_type": "code",
      "source": [
        "cursor.execute('INSERT INTO alunos(id, nome, idade, curso) VALUES(1,\"Amanda\",19,\"Data Analytics\"), (2,\"Arthur\",19,\"Segurança da Informação\"),(3,\"Lucas\",17,\"Música\"),(4,\"Elenice\",39,\"Programação\"),(5,\"Gabriele\",25,\"Engenharia\")')"
      ],
      "metadata": {
        "colab": {
          "base_uri": "https://localhost:8080/"
        },
        "id": "LtpSB-5rJ2sp",
        "outputId": "f742e71c-97bc-41e6-b618-e0156387d25b"
      },
      "execution_count": 5,
      "outputs": [
        {
          "output_type": "execute_result",
          "data": {
            "text/plain": [
              "<sqlite3.Cursor at 0x7ea27c136540>"
            ]
          },
          "metadata": {},
          "execution_count": 5
        }
      ]
    },
    {
      "cell_type": "markdown",
      "source": [
        "# Exercicio 3\n",
        "Consultas Básicas\n",
        "Escreva consultas SQL para realizar as seguintes tarefas:"
      ],
      "metadata": {
        "id": "wyPe1ZAMerOF"
      }
    },
    {
      "cell_type": "markdown",
      "source": [
        "a) Selecionar todos os registros da tabela \"alunos\".\n"
      ],
      "metadata": {
        "id": "VvW_34Fce1hs"
      }
    },
    {
      "cell_type": "code",
      "source": [
        "cursor.execute('SELECT * FROM alunos')"
      ],
      "metadata": {
        "colab": {
          "base_uri": "https://localhost:8080/"
        },
        "id": "iUuVRlSgRxYe",
        "outputId": "68401703-e12d-4b29-d0db-d9102c73072d"
      },
      "execution_count": 6,
      "outputs": [
        {
          "output_type": "execute_result",
          "data": {
            "text/plain": [
              "<sqlite3.Cursor at 0x7ea27c136540>"
            ]
          },
          "metadata": {},
          "execution_count": 6
        }
      ]
    },
    {
      "cell_type": "markdown",
      "source": [
        "b) Selecionar o nome e a idade dos alunos com mais de 20 anos.\n"
      ],
      "metadata": {
        "id": "EiLgciKme6PK"
      }
    },
    {
      "cell_type": "code",
      "source": [
        "cursor.execute('SELECT nome, idade FROM alunos WHERE idade > 20')"
      ],
      "metadata": {
        "colab": {
          "base_uri": "https://localhost:8080/"
        },
        "id": "2Thb8m60VqWr",
        "outputId": "6201923d-3769-4896-9532-d8f137e0d990"
      },
      "execution_count": 8,
      "outputs": [
        {
          "output_type": "execute_result",
          "data": {
            "text/plain": [
              "<sqlite3.Cursor at 0x7ea27c136540>"
            ]
          },
          "metadata": {},
          "execution_count": 8
        }
      ]
    },
    {
      "cell_type": "markdown",
      "source": [
        "c) Selecionar os alunos do curso de \"Engenharia\" em ordem\n",
        "alfabética.\n"
      ],
      "metadata": {
        "id": "5RW8thlCe-ZE"
      }
    },
    {
      "cell_type": "code",
      "source": [
        "cursor.execute('SELECT * FROM alunos WHERE curso = \"Engenharia ORDER BY nome\"')"
      ],
      "metadata": {
        "colab": {
          "base_uri": "https://localhost:8080/"
        },
        "id": "6APfYCr8V3hP",
        "outputId": "0897901d-b074-47dd-94f9-af0508021fa0"
      },
      "execution_count": 7,
      "outputs": [
        {
          "output_type": "execute_result",
          "data": {
            "text/plain": [
              "<sqlite3.Cursor at 0x7ea27c136540>"
            ]
          },
          "metadata": {},
          "execution_count": 7
        }
      ]
    },
    {
      "cell_type": "markdown",
      "source": [
        "d) Contar o número total de alunos na tabela"
      ],
      "metadata": {
        "id": "qlm2C28VfA9s"
      }
    },
    {
      "cell_type": "code",
      "source": [
        "cursor.execute('SELECT COUNT(id) FROM alunos')"
      ],
      "metadata": {
        "colab": {
          "base_uri": "https://localhost:8080/"
        },
        "id": "ANeirqL0WhK8",
        "outputId": "d802e1fd-5f27-42d7-87f6-3d1461b003de"
      },
      "execution_count": 9,
      "outputs": [
        {
          "output_type": "execute_result",
          "data": {
            "text/plain": [
              "<sqlite3.Cursor at 0x7ea27c136540>"
            ]
          },
          "metadata": {},
          "execution_count": 9
        }
      ]
    },
    {
      "cell_type": "markdown",
      "source": [
        "# Exercicio 4\n",
        "Atualização e Remoção"
      ],
      "metadata": {
        "id": "8vqYvk0jfEyR"
      }
    },
    {
      "cell_type": "markdown",
      "source": [
        "a) Atualize a idade de um aluno específico na tabela."
      ],
      "metadata": {
        "id": "fy8zJOVVfLxR"
      }
    },
    {
      "cell_type": "code",
      "source": [
        "cursor.execute('UPDATE alunos SET idade = 36 WHERE nome = \"Gabriele\"')"
      ],
      "metadata": {
        "id": "SnECumVvXLUx"
      },
      "execution_count": null,
      "outputs": []
    },
    {
      "cell_type": "markdown",
      "source": [
        "b) Remova um aluno pelo seu ID."
      ],
      "metadata": {
        "id": "q7_j5dfjfOEx"
      }
    },
    {
      "cell_type": "code",
      "source": [
        "cursor.execute('DELETE FROM alunos WHERE id = 3')"
      ],
      "metadata": {
        "id": "aZCGCLUxXqQF"
      },
      "execution_count": null,
      "outputs": []
    },
    {
      "cell_type": "markdown",
      "source": [
        "# Exercicio 5\n",
        "Criar uma Tabela e Inserir Dados\n",
        "Crie uma tabela chamada \"clientes\" com os campos: id (chave\n",
        "primária), nome (texto), idade (inteiro) e saldo (float). Insira alguns\n",
        "registros de clientes na tabela."
      ],
      "metadata": {
        "id": "RfjG4EDgfRjo"
      }
    },
    {
      "cell_type": "code",
      "source": [
        "cursor.execute('CREATE TABLE clientes(id INT, nome VARCHAR(50), idade INT, saldo FLOAT, primary key(id))')\n",
        "cursor.execute('INSERT INTO clientes(id,nome,idade,saldo) VALUES (1,\"Leonardo\",27,80.5), (2,\"Juliana\",18,40), (3,\"Jarbas\",57,1050.8), (4,\"Eduarda\",35,2000)')"
      ],
      "metadata": {
        "id": "7wfMhTBgYB1A"
      },
      "execution_count": null,
      "outputs": []
    },
    {
      "cell_type": "markdown",
      "source": [
        "# Exercicio 6\n",
        "Consultas e Funções Agregadas\n",
        "Escreva consultas SQL para realizar as seguintes tarefas:"
      ],
      "metadata": {
        "id": "yMoy5XUpfdkv"
      }
    },
    {
      "cell_type": "markdown",
      "source": [
        "a) Selecione o nome e a idade dos clientes com idade superior a\n",
        "30 anos."
      ],
      "metadata": {
        "id": "6CD_Zc1rfkr4"
      }
    },
    {
      "cell_type": "code",
      "source": [
        "cursor.execute('SELECT nome, idade FROM clientes WHERE idade > 30')"
      ],
      "metadata": {
        "id": "0aH_HyY4ZlCE"
      },
      "execution_count": null,
      "outputs": []
    },
    {
      "cell_type": "markdown",
      "source": [
        "b) Calcule o saldo médio dos clientes"
      ],
      "metadata": {
        "id": "safgvEAgfsRD"
      }
    },
    {
      "cell_type": "code",
      "source": [
        "cursor.execute('SELECT AVG(saldo) FROM clientes')"
      ],
      "metadata": {
        "id": "ulbpcOPHZs-8"
      },
      "execution_count": null,
      "outputs": []
    },
    {
      "cell_type": "markdown",
      "source": [
        "c) Encontre o cliente com o saldo máximo."
      ],
      "metadata": {
        "id": "tWdFGz6Lftp7"
      }
    },
    {
      "cell_type": "code",
      "source": [
        "cursor.execute('SELECT nome, MAX(saldo) FROM clientes')"
      ],
      "metadata": {
        "id": "__GeuKopZ3Dx"
      },
      "execution_count": null,
      "outputs": []
    },
    {
      "cell_type": "markdown",
      "source": [
        "d) Conte quantos clientes têm saldo acima de 1000."
      ],
      "metadata": {
        "id": "5DVDanRafvrT"
      }
    },
    {
      "cell_type": "code",
      "source": [
        "cursor.execute('SELECT COUNT(id) FROM clientes WHERE saldo > 1000')"
      ],
      "metadata": {
        "id": "309LKsrNZ-Jc"
      },
      "execution_count": null,
      "outputs": []
    },
    {
      "cell_type": "markdown",
      "source": [
        "# Exercicio 7\n",
        "Atualização e Remoção com Condições"
      ],
      "metadata": {
        "id": "G4z1ktILfzA_"
      }
    },
    {
      "cell_type": "markdown",
      "source": [
        "a) Atualize o saldo de um cliente específico."
      ],
      "metadata": {
        "id": "3WR34zeIf6Vs"
      }
    },
    {
      "cell_type": "code",
      "source": [
        "cursor.execute('UPDATE clientes SET saldo = 900 WHERE nome = \"Leonardo\"')"
      ],
      "metadata": {
        "id": "ClTGX24waeW-"
      },
      "execution_count": null,
      "outputs": []
    },
    {
      "cell_type": "markdown",
      "source": [
        "b) Remova um cliente pelo seu ID"
      ],
      "metadata": {
        "id": "TIuXsH30f8Nn"
      }
    },
    {
      "cell_type": "code",
      "source": [
        "cursor.execute('DELETE FROM clientes WHERE id = 2')"
      ],
      "metadata": {
        "id": "gN6ZijOqapF4"
      },
      "execution_count": null,
      "outputs": []
    },
    {
      "cell_type": "markdown",
      "source": [
        "# Exercicio 8\n",
        "Junção de Tabelas\n",
        "Crie uma segunda tabela chamada \"compras\" com os campos: id\n",
        "(chave primária), cliente_id (chave estrangeira referenciando o id\n",
        "da tabela \"clientes\"), produto (texto) e valor (real). Insira algumas\n",
        "compras associadas a clientes existentes na tabela \"clientes\".\n",
        "Escreva uma consulta para exibir o nome do cliente, o produto e o\n",
        "valor de cada compra."
      ],
      "metadata": {
        "id": "obW-oZErf-pE"
      }
    },
    {
      "cell_type": "code",
      "source": [
        "cursor.execute('CREATE TABLE compras(id INT, produto VARCHAR(50), cliente_id INT, valor FLOAT, primary key(id), foreign key(cliente_id) REFERENCES clientes(id))')"
      ],
      "metadata": {
        "id": "d1_Ku6HdayH5"
      },
      "execution_count": null,
      "outputs": []
    },
    {
      "cell_type": "code",
      "source": [
        "cursor.execute('INSERT INTO compras(id,produto,cliente_id,valor) VALUES (1,\"Chocolate\",3,15), (2,\"Macarrão\",1,10), (3,\"Energetico\",4,50.5), (4,\"Frango\",1,73.4)')"
      ],
      "metadata": {
        "id": "KyOUoxRkbOo-"
      },
      "execution_count": null,
      "outputs": []
    },
    {
      "cell_type": "code",
      "source": [
        "cursor.execute('SELECT clientes.nome, compras.produto, compras.valor FROM compras FULL JOIN clientes ON compras.cliente_id = clientes.id')"
      ],
      "metadata": {
        "id": "E_dwslSWcVi9"
      },
      "execution_count": null,
      "outputs": []
    },
    {
      "cell_type": "markdown",
      "source": [
        "# Finalização Variáveis"
      ],
      "metadata": {
        "id": "siB5KzjRgHOQ"
      }
    },
    {
      "cell_type": "code",
      "source": [
        "conexao.commit()\n",
        "conexao.close"
      ],
      "metadata": {
        "id": "Hcz5dQnjEM_u"
      },
      "execution_count": null,
      "outputs": []
    }
  ]
}